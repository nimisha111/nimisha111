{
  "nbformat": 4,
  "nbformat_minor": 0,
  "metadata": {
    "colab": {
      "provenance": [],
      "toc_visible": true,
      "authorship_tag": "ABX9TyPBfOJdtkVfPusovKkFAZQt",
      "include_colab_link": true
    },
    "kernelspec": {
      "name": "python3",
      "display_name": "Python 3"
    },
    "language_info": {
      "name": "python"
    }
  },
  "cells": [
    {
      "cell_type": "markdown",
      "metadata": {
        "id": "view-in-github",
        "colab_type": "text"
      },
      "source": [
        "<a href=\"https://colab.research.google.com/github/nimisha111/nimisha111/blob/main/Assignment_3.ipynb\" target=\"_parent\"><img src=\"https://colab.research.google.com/assets/colab-badge.svg\" alt=\"Open In Colab\"/></a>"
      ]
    },
    {
      "cell_type": "markdown",
      "source": [
        "#Assignment 3"
      ],
      "metadata": {
        "id": "Jni4wOb8Gzyl"
      }
    },
    {
      "cell_type": "markdown",
      "source": [
        "##Money Counting Game\n",
        "Create a change-counting game that gets the user to enter the number of coins required to make exactly one dollar. \n",
        "\n",
        "**The program should prompt the user to enter the number of pennies, nickels, dimes, and quarters.**\n",
        "\n",
        "- If the total value of the coins entered is equal to one dollar, the program should congratulate the user for winning the game. \n",
        "- Otherwise, the program should display a message indicating whether the amount entered was more than or less than one dollar."
      ],
      "metadata": {
        "id": "zpcibpmfG4GX"
      }
    },
    {
      "cell_type": "code",
      "execution_count": null,
      "metadata": {
        "id": "6BCyH24xGxFX",
        "colab": {
          "base_uri": "https://localhost:8080/"
        },
        "outputId": "ff3f7fa9-71d7-4025-9884-a629db2a3c2d"
      },
      "outputs": [
        {
          "output_type": "stream",
          "name": "stdout",
          "text": [
            "enter the number of coins required to make exactly one dollar\n",
            "enter the number of pennies you want: 100\n",
            "enter the number of nickles you want: 4\n",
            "enter the number of dimes you want: 3\n",
            "enter the number of quarters you want: 2\n",
            "your total value of money is greater than a dollar\n"
          ]
        }
      ],
      "source": [
        "#@title 3.10 Money Counting Game\n",
        "\n",
        "#change-counting game that has the user to enter the number of coins required to make exactly one dollar\n",
        "\n",
        "print(\"enter the number of coins required to make exactly one dollar\")\n",
        "enter_pennies = int(input(\"enter the number of pennies you want: \"))\n",
        "enter_nickles = int(input(\"enter the number of nickles you want: \"))\n",
        "enter_nickles = enter_nickles * 5\n",
        "enter_dimes = int(input(\"enter the number of dimes you want: \"))\n",
        "enter_dimes = enter_dimes * 10\n",
        "enter_quarters = int(input(\"enter the number of quarters you want: \"))\n",
        "enter_quarters = enter_quarters * 25\n",
        "\n",
        "total_value = (enter_pennies + enter_nickles + enter_dimes + enter_quarters)/100\n",
        "\n",
        "if total_value == 1:\n",
        "    print(\"congratulations for winning the game!\")\n",
        "elif total_value > 1:\n",
        "    print(\"your total value of money is greater than a dollar\")\n",
        "else:\n",
        "    print(\"your total value of money is less than a dollar\")"
      ]
    },
    {
      "cell_type": "markdown",
      "source": [
        "##Book Club Points\n",
        "Serendipity Booksellers has a book club that awards points to its customers based on the number of books purchased each month.\n",
        "\n",
        "**The points are awarded as follows:**\n",
        "\n",
        "* If a customer purchases 0 books, he or she earns 0 points.\n",
        "* If a customer purchases 2 books, he or she earns 5 points.\n",
        "* If a customer purchases 4 books, he or she earns 15 points.\n",
        "* If a customer purchases 6 books, he or she earns 30 points.\n",
        "* If a customer purchases 8 or more books, he or she earns 60 points.\n",
        "\n",
        "**Write a program that asks the user to enter the number of books that he or she has purchased this month, then displays the number of points awarded.**"
      ],
      "metadata": {
        "id": "EkOH0Gyc7N4P"
      }
    },
    {
      "cell_type": "code",
      "source": [
        "#@title 3.1.1 Book Club Points\n",
        "\n",
        "#program that asks user to enter the # of books that they have purchased this month \n",
        "#then displays the # of points they have earned\n",
        "\n",
        "enter_books = int(input(\"enter the number of books you have purchased from Serendipity Booksellers this past month: \"))\n",
        "\n",
        "points_earned = 0\n",
        "\n",
        "if enter_books == 0:\n",
        "  print(\"you have earned\", points_earned, \"points\")\n",
        "elif enter_books == 2:\n",
        "  points_earned = points_earned+5\n",
        "  print(\"you have earned\", points_earned, \"points\")\n",
        "elif enter_books == 4:\n",
        "  points_earned = points_earned+15\n",
        "  print(\"you have earned\", points_earned, \"points\")\n",
        "elif enter_books == 6:\n",
        "  points_earned = points_earned+30\n",
        "  print(\"you have earned\", points_earned, \"points\")\n",
        "elif enter_books >= 8:\n",
        "  points_earned = points_earned+60\n",
        "  print(\"you have earned\", points_earned, \"points\")\n",
        "\n"
      ],
      "metadata": {
        "id": "BCtFEFbC76ig"
      },
      "execution_count": null,
      "outputs": []
    }
  ]
}
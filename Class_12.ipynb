{
  "nbformat": 4,
  "nbformat_minor": 0,
  "metadata": {
    "colab": {
      "provenance": [],
      "toc_visible": true,
      "authorship_tag": "ABX9TyOgxMqJ9q0B5rygdAfiS1Zi",
      "include_colab_link": true
    },
    "kernelspec": {
      "name": "python3",
      "display_name": "Python 3"
    },
    "language_info": {
      "name": "python"
    }
  },
  "cells": [
    {
      "cell_type": "markdown",
      "metadata": {
        "id": "view-in-github",
        "colab_type": "text"
      },
      "source": [
        "<a href=\"https://colab.research.google.com/github/nimisha111/nimisha111/blob/main/Class_12.ipynb\" target=\"_parent\"><img src=\"https://colab.research.google.com/assets/colab-badge.svg\" alt=\"Open In Colab\"/></a>"
      ]
    },
    {
      "cell_type": "markdown",
      "source": [
        "#Exercises in class"
      ],
      "metadata": {
        "id": "VvE0WOKLzWHK"
      }
    },
    {
      "cell_type": "code",
      "execution_count": null,
      "metadata": {
        "colab": {
          "base_uri": "https://localhost:8080/"
        },
        "id": "wY8JzsCFPJLR",
        "outputId": "2dbb29a3-f117-4b00-874b-506432e5292f"
      },
      "outputs": [
        {
          "output_type": "stream",
          "name": "stdout",
          "text": [
            "enter your first, middle, and last name: nimisha sa rata\n",
            "['nimisha', 'sa', 'rata']\n",
            "N. S. R\n"
          ]
        }
      ],
      "source": [
        "#@title 1. Initials\n",
        "\n",
        "#Write a program that gets a string containing a person’s first, middle, and last names\n",
        "#displays their first, middle, and last initials. \n",
        "#For example, if the user enters John William Smith, the program should display J. W. S.\n",
        "\n",
        "#getting full name\n",
        "full_name = input(\"enter your first, middle, and last name: \") \n",
        "split_fullname = full_name.split()\n",
        "print(split_fullname)\n",
        "\n",
        "#Initials\n",
        "initials_fullname = split_fullname[0][0] + '. ' + split_fullname[1][0] + '. ' + split_fullname[2][0] #formatting\n",
        "initials_fullname = initials_fullname.upper() #uppercase\n",
        "print(initials_fullname)\n"
      ]
    },
    {
      "cell_type": "code",
      "source": [
        "#@title 2. Sum of Digits in a String\n",
        "#Write a program that asks the user to enter a series of single-digit numbers with nothing separating them\n",
        "#The program should display the sum of all the single digit numbers in the string\n",
        "#For example, if the user enters 2514, the method should return 12, which is the sum of 2, 5, 1, and 4\n"
      ],
      "metadata": {
        "id": "RB3hT11fTLAd"
      },
      "execution_count": null,
      "outputs": []
    },
    {
      "cell_type": "code",
      "source": [
        "#@title 3. Date Printer\n",
        "#Write a program that reads a string from the user containing a date in the form mm/dd/yyyy. \n",
        "#It should print the date in the format March 12, 2018.\n",
        "\n",
        "input_date = input('enter the date: ')\n",
        "date_tokens = input_date.split('/')\n",
        "\n",
        "month_number = date_tokens[0]\n",
        "month_number = int(month_number)\n",
        "day = date_tokens[1]\n",
        "year = date_tokens[2]\n",
        "\n",
        "months_list = ['January', 'Feburary', 'March', 'April', 'May', 'June', 'July', 'August', 'September', 'October', 'November', 'December']\n",
        "month = months_list[month_number-1]\n",
        "\n",
        "date = month + ' ' + day + ', ' + year\n",
        "print(date)"
      ],
      "metadata": {
        "colab": {
          "base_uri": "https://localhost:8080/"
        },
        "id": "205EI90DTmdl",
        "outputId": "814b3586-2a92-49df-9914-688fa7fd1830"
      },
      "execution_count": null,
      "outputs": [
        {
          "output_type": "stream",
          "name": "stdout",
          "text": [
            "enter the date: 12/31/3242\n",
            "December 31, 3242\n"
          ]
        }
      ]
    },
    {
      "cell_type": "markdown",
      "source": [
        "#Assignment 12"
      ],
      "metadata": {
        "id": "wHvR3L2vyNfl"
      }
    },
    {
      "cell_type": "markdown",
      "source": [
        "##Alphabetic Telephone Number Translator\n",
        "Many companies use telephone numbers like 555-GET-FOOD so the number is easier for their customers to remember. On a standard telephone, the alphabetic letters are mapped to numbers\n",
        "\n",
        "in the following fashion: \n",
        "\n",
        "A, B, and C = 2\n",
        "\n",
        "D, E, and F = 3\n",
        "\n",
        "G, H, and I = 4\n",
        "\n",
        "J, K, and L = 5\n",
        "\n",
        "M, N, and O = 6\n",
        "\n",
        "P, Q, R, and S = 7 \n",
        "\n",
        ", U, and V = 8 \n",
        "\n",
        "W, X, Y, and Z = 9\n",
        "\n",
        "Write a program that asks the user to enter a 10-character telephone number in the format XXX- XXX-XXXX. \n",
        "\n",
        "**The application should display the telephone number with any alphabetic characters that appeared in the original translated to their numeric equivalent.**\n",
        "\n",
        "For example, if the user enters 555-GET-FOOD, the application should display 555-438-3663."
      ],
      "metadata": {
        "id": "27lmbXbPyR7j"
      }
    },
    {
      "cell_type": "code",
      "source": [
        "#@title Code for Alphabetic Telephone Number Translator\n",
        "telephone_number = input(\"enter a 10-character telephone number in the format XXX-XXX-XXXX: \")\n",
        "telephone_number = telephone_number.split('-')\n",
        "\n",
        "print(telephone_number)\n",
        "\n",
        "final_number = ''\n",
        "\n",
        "for digit in telephone_number:\n",
        "  for char in digit:\n",
        "     if char == '1' or  char == '2' or char == '3' or char == '4' or char == '5' or char == '6' or char == '7' or char == '8' or char == '9':\n",
        "       final_number = final_number + char\n",
        "     elif char == 'A' or char == 'B' or char == 'C': \n",
        "       char = '2'\n",
        "       final_number = final_number + char\n",
        "     elif char == 'D' or char == 'E' or char == 'F': \n",
        "       char = '3'\n",
        "       final_number = final_number + char\n",
        "     elif char == 'G' or char == 'H' or char == 'I':\n",
        "       char = '4'\n",
        "       final_number = final_number + char\n",
        "     elif char == 'J' or char == 'K' or char == 'L':\n",
        "       char = '5'\n",
        "       final_number = final_number + char\n",
        "     elif char == 'M' or char == 'N' or char == 'O':\n",
        "       char = '6'\n",
        "       final_number = final_number + char  \n",
        "     elif char == 'P' or char == 'Q' or char == 'R' or char == 'S':\n",
        "       char = '7'\n",
        "       final_number = final_number + char\n",
        "     elif char == 'T' or char == 'U' or char == 'V':\n",
        "       char = '8'\n",
        "       final_number = final_number + char\n",
        "     elif char == 'W' or char == 'X' or char == 'Y' or char == 'Z':\n",
        "       char = '9'\n",
        "       final_number = final_number + char\n",
        "\n",
        "print(final_number)\n",
        "final_number = final_number[0:3] + \"-\" + final_number[3:6] + \"-\" + final_number[6:]\n",
        "print('The translated number is ' + final_number)\n"
      ],
      "metadata": {
        "colab": {
          "base_uri": "https://localhost:8080/"
        },
        "id": "SWGP7vjBzGDX",
        "outputId": "ca710fc1-3dd8-4e72-f581-e7dea42ecf2b"
      },
      "execution_count": 35,
      "outputs": [
        {
          "output_type": "stream",
          "name": "stdout",
          "text": [
            "enter a 10-character telephone number in the format XXX-XXX-XXXX: 834-UDS-JNCM\n",
            "['834', 'UDS', 'JNCM']\n",
            "8348375626\n",
            "The translated number is 834-837-5626\n"
          ]
        }
      ]
    }
  ]
}
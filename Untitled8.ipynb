{
  "nbformat": 4,
  "nbformat_minor": 0,
  "metadata": {
    "colab": {
      "provenance": [],
      "collapsed_sections": [],
      "authorship_tag": "ABX9TyNKQXWrYZJv/91NKzbmbXUh",
      "include_colab_link": true
    },
    "kernelspec": {
      "name": "python3",
      "display_name": "Python 3"
    },
    "language_info": {
      "name": "python"
    }
  },
  "cells": [
    {
      "cell_type": "markdown",
      "metadata": {
        "id": "view-in-github",
        "colab_type": "text"
      },
      "source": [
        "<a href=\"https://colab.research.google.com/github/nimisha111/nimisha111/blob/main/Untitled8.ipynb\" target=\"_parent\"><img src=\"https://colab.research.google.com/assets/colab-badge.svg\" alt=\"Open In Colab\"/></a>"
      ]
    },
    {
      "cell_type": "markdown",
      "source": [
        "# Assignment 6"
      ],
      "metadata": {
        "id": "Hq-0enTcQJQ6"
      }
    },
    {
      "cell_type": "markdown",
      "source": [
        "## Distance Traveled\n",
        "The distance a vehicle travels can be calculated as follows: **distan⁡ce = speed × time**\n",
        "\n",
        "Write a program that asks the user for the speed of a vehicle (in miles per hour) and the number of hours it has traveled. It should then use a loop to display the distance the vehicle has traveled for each hour of that time period. \n",
        "\n",
        " For example, if a train travels 40 miles per hour for three hours, the distance traveled is 120 miles.\n",
        "\n",
        "**Here is an example of the desired output:**\n",
        "\n",
        "*What is the speed of the vehicle in mph?* 40 *How many hours has it traveled?* 3\n",
        "\n",
        "**Hour Distance Traveled**\n",
        "\n",
        "* 1: 40\n",
        "* 2: 80\n",
        "* 3 : 120\n"
      ],
      "metadata": {
        "id": "PIBvlVFxQS1W"
      }
    },
    {
      "cell_type": "code",
      "execution_count": 4,
      "metadata": {
        "colab": {
          "base_uri": "https://localhost:8080/"
        },
        "id": "LjPVvwWhQIpS",
        "outputId": "b8a42497-0b1d-4661-d870-da75b018e840"
      },
      "outputs": [
        {
          "output_type": "stream",
          "name": "stdout",
          "text": [
            "enter how many hours you have traveled in your vehicle: 3\n",
            "enter the speed of the vehicle you traveled in (miles per hour): 40\n",
            "Hour Distance Traveled\n",
            "1    40.0\n",
            "2    80.0\n",
            "3    120.0\n",
            "Finished!\n"
          ]
        }
      ],
      "source": [
        "#solve the problem using \"for and range\" statements\n",
        "\n",
        "#distan⁡ce = speed × time\n",
        "\n",
        "#inputs\n",
        "time = input(\"enter how many hours you have traveled in your vehicle: \")\n",
        "speed = input(\"enter the speed of the vehicle you traveled in (miles per hour): \")\n",
        "\n",
        "#processing\n",
        "range_time = (int(time)) + 1\n",
        "speed = float(speed)\n",
        "\n",
        "print(\"Hour Distance Traveled\")\n",
        "\n",
        "for number_hour in range (1,range_time,1):\n",
        "    distance_traveled = speed * number_hour\n",
        "    print(number_hour, '  ', distance_traveled)\n",
        "    \n",
        "#output\n",
        "print(\"Finished!\")"
      ]
    },
    {
      "cell_type": "markdown",
      "source": [
        "##Celsius to Fahrenheit Table\n",
        "Write a program that displays a table of the Celsius temperatures 0 through 20 and their Fahrenheit equivalents. \n",
        "\n",
        "The formula for converting a temperature from Celsius to Fahrenheit is\n",
        "**F=95C+32**\n",
        "\n",
        "*Your program must display a table.*"
      ],
      "metadata": {
        "id": "hVCIY6TFDFwz"
      }
    },
    {
      "cell_type": "code",
      "source": [
        "#solve the problem using \"for and range\" statements\n",
        "\n",
        "#F = 95C+32\n",
        "#terms to know:\n",
        "#F = fahrenheit temperature\n",
        "#C = celsius temperature\n",
        "\n",
        "#processing\n",
        "\n",
        "print(\"Celsius | Fahrenheit\")\n",
        "\n",
        "for celsius_temp in range (0,21):\n",
        "  fahrenheit_temp = (celsius_temp*95) + 32\n",
        "  print(celsius_temp, ' degrees   |    ', fahrenheit_temp, 'degrees')\n",
        "\n",
        "\n",
        "#output\n",
        "print(\"program finished\")\n"
      ],
      "metadata": {
        "id": "moDiIU2uAGEu",
        "colab": {
          "base_uri": "https://localhost:8080/"
        },
        "outputId": "18fd59f9-97de-49ef-f13e-2cf3dbe733d4"
      },
      "execution_count": 8,
      "outputs": [
        {
          "output_type": "stream",
          "name": "stdout",
          "text": [
            "Celsius | Fahrenheit\n",
            "0  degrees   |     32 degrees\n",
            "1  degrees   |     127 degrees\n",
            "2  degrees   |     222 degrees\n",
            "3  degrees   |     317 degrees\n",
            "4  degrees   |     412 degrees\n",
            "5  degrees   |     507 degrees\n",
            "6  degrees   |     602 degrees\n",
            "7  degrees   |     697 degrees\n",
            "8  degrees   |     792 degrees\n",
            "9  degrees   |     887 degrees\n",
            "10  degrees   |     982 degrees\n",
            "11  degrees   |     1077 degrees\n",
            "12  degrees   |     1172 degrees\n",
            "13  degrees   |     1267 degrees\n",
            "14  degrees   |     1362 degrees\n",
            "15  degrees   |     1457 degrees\n",
            "16  degrees   |     1552 degrees\n",
            "17  degrees   |     1647 degrees\n",
            "18  degrees   |     1742 degrees\n",
            "19  degrees   |     1837 degrees\n",
            "20  degrees   |     1932 degrees\n",
            "program finished\n"
          ]
        }
      ]
    }
  ]
}
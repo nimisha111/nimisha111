{
  "nbformat": 4,
  "nbformat_minor": 0,
  "metadata": {
    "colab": {
      "provenance": [],
      "collapsed_sections": [],
      "toc_visible": true,
      "authorship_tag": "ABX9TyMJPqLL6Ws1WjMGuztYEEfo",
      "include_colab_link": true
    },
    "kernelspec": {
      "name": "python3",
      "display_name": "Python 3"
    },
    "language_info": {
      "name": "python"
    }
  },
  "cells": [
    {
      "cell_type": "markdown",
      "metadata": {
        "id": "view-in-github",
        "colab_type": "text"
      },
      "source": [
        "<a href=\"https://colab.research.google.com/github/nimisha111/nimisha111/blob/main/Assignment_2.ipynb\" target=\"_parent\"><img src=\"https://colab.research.google.com/assets/colab-badge.svg\" alt=\"Open In Colab\"/></a>"
      ]
    },
    {
      "cell_type": "markdown",
      "source": [
        "# Assignment 2\n"
      ],
      "metadata": {
        "id": "hNItPmVLEjfA"
      }
    },
    {
      "cell_type": "markdown",
      "source": [
        "##2.7 Miles-per-Gallon\n",
        "Write a program that asks the user for the number of miles driven and the gallons of gas used. It should calculate the car's MPG and display the result."
      ],
      "metadata": {
        "id": "0K_bypVhGYgH"
      }
    },
    {
      "cell_type": "code",
      "execution_count": 1,
      "metadata": {
        "colab": {
          "base_uri": "https://localhost:8080/"
        },
        "id": "GcEMKyEMD8z0",
        "outputId": "407dd121-3ff9-420c-927c-b62697530032"
      },
      "outputs": [
        {
          "output_type": "stream",
          "name": "stdout",
          "text": [
            "this program will be used to find your car's miles-per-gallon, otherwise known as MPG\n",
            "enter the number of miles driven23\n",
            "enter the gallons of gas used23\n",
            "the miles-per-gallon of your car is 1.0\n"
          ]
        }
      ],
      "source": [
        "#MPG = miles driven/gallons of gas\n",
        "\n",
        "#purpose of program\n",
        "print(\"this program will be used to find your car's miles-per-gallon, otherwise known as MPG\")\n",
        "\n",
        "#inputs\n",
        "miles = input(\"enter the number of miles driven: \")\n",
        "gas = input(\"enter the gallons of gas used: \")\n",
        "\n",
        "#processing\n",
        "MPG = float(miles)/float(gas)\n",
        "\n",
        "#output\n",
        "print(\"the miles-per-gallon of your car is\", mpg)"
      ]
    },
    {
      "cell_type": "markdown",
      "source": [
        "##2.9 Celsius to Fahrenheit Temperature Converter\n",
        "Write a program that converts Celsius temperatures to Fahrenheit temperatures. The program should ask the user to enter a temperature in Celsius, then display the temperature converted to Fahrenheit.\n"
      ],
      "metadata": {
        "id": "UgKGmpyJLDdb"
      }
    },
    {
      "cell_type": "code",
      "source": [
        "#F=95C+32\n",
        "#Terms to know in formula are:\n",
        "#F = fahrenheit\n",
        "#C = celsius\n",
        "\n",
        "#the magic numbers exist due to the formula being based off of numbers\n",
        "#not values\n",
        "\n",
        "#purpose of code\n",
        "print(\"this program is made ot convert celsius temperatures to fahrenheit temperatures\")\n",
        "\n",
        "#inputs\n",
        "celsius = input(\"enter the celsius temperature: \")\n",
        "\n",
        "#processing\n",
        "#weather isn't spoken in decimals (floats)\n",
        "fahrenheit = 95*float(celsius) + 32\n",
        "\n",
        "#output\n",
        "print(celsius, \"celsius converted into fahrenheit is\", fahrenheit)"
      ],
      "metadata": {
        "id": "D1xa8uT-LPQO"
      },
      "execution_count": null,
      "outputs": []
    },
    {
      "cell_type": "markdown",
      "source": [
        "## 10. Ingredient Adjuster\n",
        "  A cookie recipe calls for the following ingredients:\n",
        "1.5 cups of sugar, 1 cup of butter, and 2.75 cups of flour\n",
        "The recipe produces 48 cookies with this amount of the ingredients. \n",
        "Write a program that asks the user how many cookies he or she wants to make, then displays the number of cups of each ingredient needed for the specified number of cookies."
      ],
      "metadata": {
        "id": "NKWcSTVBOwTC"
      }
    },
    {
      "cell_type": "code",
      "source": [
        "#1.5 cups of sugar\n",
        "#1 cup of butter\n",
        "#2.75 cups of flour\n",
        "#recipe produces 48 cookies\n",
        "\n",
        "#the units for each ingredient is cups\n",
        "\n",
        "#constant values\n",
        "r_sugar = 1.5\n",
        "r_butter = 1\n",
        "r_flour = 2.75\n",
        "r_cookies = 48\n",
        "\n",
        "#purpose\n",
        "print(\"this program is made to tell the amount of each ingredient you need based upon on how many cookies you want\")\n",
        "\n",
        "#inputs\n",
        "asked_cookies = input(\"enter the number of cookies you want to make: \")\n",
        "\n",
        "#processing\n",
        "asked_cookies = float(asked_cookies)\n",
        "needed_sugar = (asked_cookies/r_cookies) * r_sugar\n",
        "needed_butter = (asked_cookies/r_cookies) * r_butter\n",
        "needed_flour = (asked_cookies/r_cookies) * r_flour\n",
        "\n",
        "#outputs\n",
        "print(\"the amount of cookies you want is\", asked_cookies, \"therefore:\")\n",
        "print(\"you need\", needed_sugar, \"cups of sugar\")\n",
        "print(\"you need\", needed_butter, \"cups of butter\")\n",
        "print(\"you need\", needed_flour, \"cups of flour\")"
      ],
      "metadata": {
        "id": "lJvcgiNcO7CJ"
      },
      "execution_count": null,
      "outputs": []
    }
  ]
}